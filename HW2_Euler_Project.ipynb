{
 "cells": [
  {
   "cell_type": "code",
   "execution_count": 1,
   "metadata": {},
   "outputs": [],
   "source": [
    "###### Problem 112 - Bouncy numbers - solved under 25000\n",
    "def is_bouncy(num, index):\n",
    "    \"\"\"\n",
    "    is_bouncy(num, index)\n",
    "    \n",
    "    Check to see if the number is a bouncy number.\n",
    "    \n",
    "    Parameters\n",
    "    ----------\n",
    "    num : int\n",
    "        The number to be checked.\n",
    "    index : int\n",
    "        Helper parameter, it should always start with 1.\n",
    "        \n",
    "    Returns\n",
    "    -------\n",
    "    int\n",
    "        Value of 1 indicating a bouncy number, or -1 indicating a non-bouncy number.\n",
    "    \"\"\"\n",
    "    def check_increase(num, index):\n",
    "        \"\"\"\n",
    "        Check to see if the number is a increasing number.\n",
    "        \"\"\"\n",
    "        if index != len(str(num))-1:\n",
    "            if str(num)[index] >= str(num)[index-1]:\n",
    "                index += 1\n",
    "                return check_increase(num, index)\n",
    "            else:\n",
    "                return -1\n",
    "        elif index == len(str(num))-1:\n",
    "            if str(num)[index] >= str(num)[index-1]:\n",
    "                return 1\n",
    "            else:\n",
    "                return -1\n",
    "    def check_decrease(num, index):\n",
    "        \"\"\"\n",
    "        Check to see if the number is a decreasing number.\n",
    "        \"\"\"\n",
    "        if index != len(str(num))-1:\n",
    "            if str(num)[index] <= str(num)[index-1]:\n",
    "                index += 1\n",
    "                return check_decrease(num, index)\n",
    "            else:\n",
    "                return -1\n",
    "        elif index == len(str(num))-1:\n",
    "            if str(num)[index] <= str(num)[index-1]:\n",
    "                return 1\n",
    "            else:\n",
    "                return -1\n",
    "    def check_bouncy(num, index):\n",
    "        \"\"\"\n",
    "        Check to see if the number is a bouncy number.\n",
    "        \"\"\"\n",
    "        if len(str(num)) <= 2:\n",
    "            return -1\n",
    "        else:\n",
    "            if check_increase(num, index) == -1 and check_decrease(num, index) == -1:\n",
    "                return 1\n",
    "            else:\n",
    "                return -1\n",
    "    return check_bouncy(num, index)"
   ]
  },
  {
   "cell_type": "code",
   "execution_count": 2,
   "metadata": {},
   "outputs": [],
   "source": [
    "bouncy_nums = 0\n",
    "nums = 99\n",
    "num = 100\n",
    "while bouncy_nums / nums != 0.99:\n",
    "    nums += 1\n",
    "    if is_bouncy(num, 1) == 1:\n",
    "        bouncy_nums += 1\n",
    "    num += 1"
   ]
  },
  {
   "cell_type": "code",
   "execution_count": 3,
   "metadata": {},
   "outputs": [
    {
     "name": "stdout",
     "output_type": "stream",
     "text": [
      "Amount of bouncy number: 1571130, total amount of numbers: 1587000.\n",
      "The leaset number to reach 99% is 1587000.\n"
     ]
    }
   ],
   "source": [
    "print('Amount of bouncy number: {}, total amount of numbers: {}.'.format(bouncy_nums, nums))\n",
    "print('The leaset number to reach 99% is {}.'.format(nums))"
   ]
  },
  {
   "cell_type": "code",
   "execution_count": 4,
   "metadata": {},
   "outputs": [],
   "source": [
    "###### Problem 52 - Permuted multiples - solved under 100,000\n",
    "def check_digits(num):\n",
    "    \"\"\"\n",
    "    check_digits(num)\n",
    "    \n",
    "    Check to see if the number is permutble with 2,3,4,5,6 times itself. \n",
    "    \n",
    "    Parameters\n",
    "    ----------\n",
    "    num : int\n",
    "        The number to be checked.\n",
    "        \n",
    "    Returns\n",
    "    -------\n",
    "    int\n",
    "        Value of 1 indicating it's permutable, or -1 indicating it's not permutable.\n",
    "    \"\"\"\n",
    "    def is_same(num1, num2):\n",
    "        \"\"\"\n",
    "        Compare if the num1 and num2 are permutable to each other\n",
    "        \"\"\"\n",
    "        len1, len2 = len(str(num1)), len(str(num2))\n",
    "        temp = str(num2)\n",
    "        if len1 != len2:\n",
    "            return -1\n",
    "        for i in range(len1):\n",
    "            if str(num1)[i] not in temp:\n",
    "                return -1\n",
    "            # The numbers that are read already get noted\n",
    "            temp = temp.replace(str(num1)[i], '', 1)\n",
    "        return 1\n",
    "\n",
    "    def give_ans():\n",
    "        \"\"\"\n",
    "        Check to see if the number is permutble with 2,3,4,5,6 times itself.\n",
    "        \"\"\"\n",
    "        for i in range(1,7):\n",
    "            if is_same(num, i*num) == -1:\n",
    "                return -1\n",
    "        return 1\n",
    "    return give_ans()"
   ]
  },
  {
   "cell_type": "code",
   "execution_count": 5,
   "metadata": {},
   "outputs": [],
   "source": [
    "num = 1\n",
    "while check_digits(num) != 1:\n",
    "    num += 1"
   ]
  },
  {
   "cell_type": "code",
   "execution_count": 6,
   "metadata": {},
   "outputs": [
    {
     "name": "stdout",
     "output_type": "stream",
     "text": [
      "The smallest positive integet satisfying the condition is 142857.\n"
     ]
    }
   ],
   "source": [
    "print('The smallest positive integet satisfying the condition is {}.'.format(num))"
   ]
  },
  {
   "cell_type": "code",
   "execution_count": 7,
   "metadata": {},
   "outputs": [],
   "source": [
    "###### Problem 16 - power digit sum - solved under 500,000\n",
    "def digit_sum(num):\n",
    "    \"\"\"\n",
    "    digit_sum(num)\n",
    "    \n",
    "    Compute the digit sum of the input number. \n",
    "    \n",
    "    Parameters\n",
    "    ----------\n",
    "    num : int\n",
    "        The number to be computed.\n",
    "        \n",
    "    Returns\n",
    "    -------\n",
    "    int\n",
    "        Digit sum of the input number.\n",
    "    \"\"\"\n",
    "    res = 0\n",
    "    for i in range (len(str(num))):\n",
    "        res += int(str(num)[i])\n",
    "    return res"
   ]
  },
  {
   "cell_type": "code",
   "execution_count": 8,
   "metadata": {},
   "outputs": [
    {
     "name": "stdout",
     "output_type": "stream",
     "text": [
      "The sum of the digits of 2**1000 is 1366.\n"
     ]
    }
   ],
   "source": [
    "print('The sum of the digits of 2**1000 is {}.'.format(digit_sum(2**1000)))"
   ]
  },
  {
   "cell_type": "code",
   "execution_count": null,
   "metadata": {},
   "outputs": [],
   "source": []
  }
 ],
 "metadata": {
  "kernelspec": {
   "display_name": "Python 3",
   "language": "python",
   "name": "python3"
  },
  "language_info": {
   "codemirror_mode": {
    "name": "ipython",
    "version": 3
   },
   "file_extension": ".py",
   "mimetype": "text/x-python",
   "name": "python",
   "nbconvert_exporter": "python",
   "pygments_lexer": "ipython3",
   "version": "3.7.6"
  }
 },
 "nbformat": 4,
 "nbformat_minor": 2
}
